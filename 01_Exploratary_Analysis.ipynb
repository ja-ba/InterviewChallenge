{
  "cells": [
    {
      "cell_type": "markdown",
      "metadata": {
        "id": "VnOaTtqUO0TI"
      },
      "source": [
        "# 0 Load packages"
      ]
    },
    {
      "cell_type": "code",
      "execution_count": 1,
      "metadata": {
        "id": "rxbsWhNuObgl"
      },
      "outputs": [],
      "source": [
        "import pandas as pd\n",
        "import numpy as np"
      ]
    },
    {
      "cell_type": "markdown",
      "metadata": {
        "id": "eKJB7rKGO3f6"
      },
      "source": [
        "# 1 Read DF"
      ]
    },
    {
      "attachments": {},
      "cell_type": "markdown",
      "metadata": {},
      "source": [
        "## 1.1 Read the given dataset"
      ]
    },
    {
      "cell_type": "code",
      "execution_count": 2,
      "metadata": {
        "colab": {
          "base_uri": "https://localhost:8080/"
        },
        "id": "Uvf9AnuAOxNy",
        "outputId": "6e0175ce-836f-4d83-c4b1-2746b4b060b3"
      },
      "outputs": [
        {
          "name": "stderr",
          "output_type": "stream",
          "text": [
            "C:\\Users\\Jakob\\AppData\\Local\\Temp\\ipykernel_20580\\649760490.py:1: DtypeWarning: Columns (1) have mixed types. Specify dtype option on import or set low_memory=False.\n",
            "  df = pd.read_csv(\"interview_signup.csv\")\n"
          ]
        }
      ],
      "source": [
        "df = pd.read_csv(\"interview_signup.csv\")"
      ]
    },
    {
      "cell_type": "code",
      "execution_count": 3,
      "metadata": {},
      "outputs": [
        {
          "data": {
            "text/plain": [
              "318345"
            ]
          },
          "execution_count": 3,
          "metadata": {},
          "output_type": "execute_result"
        }
      ],
      "source": [
        "len(df)"
      ]
    },
    {
      "cell_type": "code",
      "execution_count": 4,
      "metadata": {
        "colab": {
          "base_uri": "https://localhost:8080/"
        },
        "id": "rF0wOm9BVUdi",
        "outputId": "5f6dfff1-118e-4e39-aed3-9e0b1861d099"
      },
      "outputs": [
        {
          "name": "stdout",
          "output_type": "stream",
          "text": [
            "<class 'pandas.core.frame.DataFrame'>\n",
            "RangeIndex: 318345 entries, 0 to 318344\n",
            "Data columns (total 5 columns):\n",
            " #   Column                 Non-Null Count   Dtype  \n",
            "---  ------                 --------------   -----  \n",
            " 0   original_product_name  318345 non-null  object \n",
            " 1   postcode               318345 non-null  object \n",
            " 2   bundesland             288813 non-null  object \n",
            " 3   total_bonus            318345 non-null  float64\n",
            " 4   order_date             318345 non-null  object \n",
            "dtypes: float64(1), object(4)\n",
            "memory usage: 12.1+ MB\n"
          ]
        }
      ],
      "source": [
        "df.info()"
      ]
    },
    {
      "cell_type": "code",
      "execution_count": 5,
      "metadata": {},
      "outputs": [
        {
          "data": {
            "text/html": [
              "<div>\n",
              "<style scoped>\n",
              "    .dataframe tbody tr th:only-of-type {\n",
              "        vertical-align: middle;\n",
              "    }\n",
              "\n",
              "    .dataframe tbody tr th {\n",
              "        vertical-align: top;\n",
              "    }\n",
              "\n",
              "    .dataframe thead th {\n",
              "        text-align: right;\n",
              "    }\n",
              "</style>\n",
              "<table border=\"1\" class=\"dataframe\">\n",
              "  <thead>\n",
              "    <tr style=\"text-align: right;\">\n",
              "      <th></th>\n",
              "      <th>original_product_name</th>\n",
              "      <th>postcode</th>\n",
              "      <th>bundesland</th>\n",
              "      <th>total_bonus</th>\n",
              "      <th>order_date</th>\n",
              "    </tr>\n",
              "  </thead>\n",
              "  <tbody>\n",
              "    <tr>\n",
              "      <th>234697</th>\n",
              "      <td>E.ON STROM 24</td>\n",
              "      <td>27432.0</td>\n",
              "      <td>Niedersachsen</td>\n",
              "      <td>186.0</td>\n",
              "      <td>2018-09-27</td>\n",
              "    </tr>\n",
              "    <tr>\n",
              "      <th>67406</th>\n",
              "      <td>E.ON STROM Ã–KO</td>\n",
              "      <td>22457.0</td>\n",
              "      <td>Hamburg</td>\n",
              "      <td>151.0</td>\n",
              "      <td>2018-03-19</td>\n",
              "    </tr>\n",
              "    <tr>\n",
              "      <th>124041</th>\n",
              "      <td>E.ON STROM ÖKO</td>\n",
              "      <td>34454.0</td>\n",
              "      <td>Hessen</td>\n",
              "      <td>149.0</td>\n",
              "      <td>2018-05-23</td>\n",
              "    </tr>\n",
              "    <tr>\n",
              "      <th>101828</th>\n",
              "      <td>E.ON STROM 24</td>\n",
              "      <td>84095.0</td>\n",
              "      <td>Bayern</td>\n",
              "      <td>161.0</td>\n",
              "      <td>2018-04-28</td>\n",
              "    </tr>\n",
              "    <tr>\n",
              "      <th>275172</th>\n",
              "      <td>E.ON STROM ÖKO 24</td>\n",
              "      <td>41068</td>\n",
              "      <td>Nordrhein-Westfalen</td>\n",
              "      <td>264.0</td>\n",
              "      <td>2018-11-12</td>\n",
              "    </tr>\n",
              "    <tr>\n",
              "      <th>291485</th>\n",
              "      <td>E.ON STROM</td>\n",
              "      <td>46569</td>\n",
              "      <td>Nordrhein-Westfalen</td>\n",
              "      <td>205.0</td>\n",
              "      <td>2018-12-01</td>\n",
              "    </tr>\n",
              "    <tr>\n",
              "      <th>287849</th>\n",
              "      <td>E.ON STROM 24</td>\n",
              "      <td>37412.0</td>\n",
              "      <td>NaN</td>\n",
              "      <td>104.0</td>\n",
              "      <td>2018-11-27</td>\n",
              "    </tr>\n",
              "    <tr>\n",
              "      <th>224139</th>\n",
              "      <td>E.ON STROM</td>\n",
              "      <td>64354.0</td>\n",
              "      <td>Hessen</td>\n",
              "      <td>186.0</td>\n",
              "      <td>2018-09-15</td>\n",
              "    </tr>\n",
              "    <tr>\n",
              "      <th>23097</th>\n",
              "      <td>E.ON STROM</td>\n",
              "      <td>84160.0</td>\n",
              "      <td>Bayern</td>\n",
              "      <td>115.0</td>\n",
              "      <td>2018-01-27</td>\n",
              "    </tr>\n",
              "    <tr>\n",
              "      <th>62704</th>\n",
              "      <td>E.ON STROM ÖKO</td>\n",
              "      <td>52152.0</td>\n",
              "      <td>Nordrhein-Westfalen</td>\n",
              "      <td>156.0</td>\n",
              "      <td>2018-03-13</td>\n",
              "    </tr>\n",
              "  </tbody>\n",
              "</table>\n",
              "</div>"
            ],
            "text/plain": [
              "       original_product_name postcode           bundesland  total_bonus  \\\n",
              "234697         E.ON STROM 24  27432.0        Niedersachsen        186.0   \n",
              "67406        E.ON STROM Ã–KO  22457.0              Hamburg        151.0   \n",
              "124041        E.ON STROM ÖKO  34454.0               Hessen        149.0   \n",
              "101828         E.ON STROM 24  84095.0               Bayern        161.0   \n",
              "275172     E.ON STROM ÖKO 24    41068  Nordrhein-Westfalen        264.0   \n",
              "291485            E.ON STROM    46569  Nordrhein-Westfalen        205.0   \n",
              "287849         E.ON STROM 24  37412.0                  NaN        104.0   \n",
              "224139            E.ON STROM  64354.0               Hessen        186.0   \n",
              "23097             E.ON STROM  84160.0               Bayern        115.0   \n",
              "62704         E.ON STROM ÖKO  52152.0  Nordrhein-Westfalen        156.0   \n",
              "\n",
              "        order_date  \n",
              "234697  2018-09-27  \n",
              "67406   2018-03-19  \n",
              "124041  2018-05-23  \n",
              "101828  2018-04-28  \n",
              "275172  2018-11-12  \n",
              "291485  2018-12-01  \n",
              "287849  2018-11-27  \n",
              "224139  2018-09-15  \n",
              "23097   2018-01-27  \n",
              "62704   2018-03-13  "
            ]
          },
          "execution_count": 5,
          "metadata": {},
          "output_type": "execute_result"
        }
      ],
      "source": [
        "df.sample(frac=1).head(10)"
      ]
    },
    {
      "attachments": {},
      "cell_type": "markdown",
      "metadata": {},
      "source": [
        "### Discovered problems\n",
        "\n",
        "*   Postcode is of datatype objects and has mixed datatypes\n",
        "*   Bundesland has missing values"
      ]
    },
    {
      "attachments": {},
      "cell_type": "markdown",
      "metadata": {},
      "source": [
        "## 1.2 Read a PLZ-Bundesland mapping for reference and potential later usage"
      ]
    },
    {
      "cell_type": "code",
      "execution_count": 6,
      "metadata": {
        "id": "IRkBTiStT3CP"
      },
      "outputs": [],
      "source": [
        "plz = pd.read_csv(\"PLZ_Bundesland.csv\", usecols = [\"PLZ\", \"Bundesland\"])\n",
        "#plz[\"PLZ\"] = plz[\"PLZ\"].astype(\"object\")"
      ]
    },
    {
      "cell_type": "code",
      "execution_count": 7,
      "metadata": {
        "colab": {
          "base_uri": "https://localhost:8080/"
        },
        "id": "uXtEQ5wbVbw6",
        "outputId": "60dc63c1-75b8-40a8-edca-83995a7c6c4c"
      },
      "outputs": [
        {
          "name": "stdout",
          "output_type": "stream",
          "text": [
            "<class 'pandas.core.frame.DataFrame'>\n",
            "RangeIndex: 8196 entries, 0 to 8195\n",
            "Data columns (total 2 columns):\n",
            " #   Column      Non-Null Count  Dtype \n",
            "---  ------      --------------  ----- \n",
            " 0   PLZ         8196 non-null   int64 \n",
            " 1   Bundesland  8196 non-null   object\n",
            "dtypes: int64(1), object(1)\n",
            "memory usage: 128.2+ KB\n"
          ]
        }
      ],
      "source": [
        "plz.info()"
      ]
    },
    {
      "cell_type": "code",
      "execution_count": 8,
      "metadata": {
        "colab": {
          "base_uri": "https://localhost:8080/",
          "height": 206
        },
        "id": "zQXVHLW8UCBd",
        "outputId": "3dd2333a-3b8d-4b01-f9f5-58d127549aab"
      },
      "outputs": [
        {
          "data": {
            "text/html": [
              "<div>\n",
              "<style scoped>\n",
              "    .dataframe tbody tr th:only-of-type {\n",
              "        vertical-align: middle;\n",
              "    }\n",
              "\n",
              "    .dataframe tbody tr th {\n",
              "        vertical-align: top;\n",
              "    }\n",
              "\n",
              "    .dataframe thead th {\n",
              "        text-align: right;\n",
              "    }\n",
              "</style>\n",
              "<table border=\"1\" class=\"dataframe\">\n",
              "  <thead>\n",
              "    <tr style=\"text-align: right;\">\n",
              "      <th></th>\n",
              "      <th>PLZ</th>\n",
              "      <th>Bundesland</th>\n",
              "    </tr>\n",
              "  </thead>\n",
              "  <tbody>\n",
              "    <tr>\n",
              "      <th>0</th>\n",
              "      <td>1067</td>\n",
              "      <td>Sachsen</td>\n",
              "    </tr>\n",
              "    <tr>\n",
              "      <th>1</th>\n",
              "      <td>1069</td>\n",
              "      <td>Sachsen</td>\n",
              "    </tr>\n",
              "    <tr>\n",
              "      <th>2</th>\n",
              "      <td>1097</td>\n",
              "      <td>Sachsen</td>\n",
              "    </tr>\n",
              "    <tr>\n",
              "      <th>3</th>\n",
              "      <td>1099</td>\n",
              "      <td>Sachsen</td>\n",
              "    </tr>\n",
              "    <tr>\n",
              "      <th>4</th>\n",
              "      <td>1108</td>\n",
              "      <td>Sachsen</td>\n",
              "    </tr>\n",
              "  </tbody>\n",
              "</table>\n",
              "</div>"
            ],
            "text/plain": [
              "    PLZ Bundesland\n",
              "0  1067    Sachsen\n",
              "1  1069    Sachsen\n",
              "2  1097    Sachsen\n",
              "3  1099    Sachsen\n",
              "4  1108    Sachsen"
            ]
          },
          "execution_count": 8,
          "metadata": {},
          "output_type": "execute_result"
        }
      ],
      "source": [
        "plz.head()"
      ]
    },
    {
      "attachments": {},
      "cell_type": "markdown",
      "metadata": {
        "id": "orBm3VuPPsCl"
      },
      "source": [
        "# 2 Checking each column"
      ]
    },
    {
      "attachments": {},
      "cell_type": "markdown",
      "metadata": {
        "id": "wOR7gY7HQSMs"
      },
      "source": [
        "## 2.1 Product Name"
      ]
    },
    {
      "cell_type": "code",
      "execution_count": 9,
      "metadata": {
        "colab": {
          "base_uri": "https://localhost:8080/"
        },
        "id": "CoUPPo_QPoVo",
        "outputId": "6f2d507c-43bd-4371-ddc8-8aa1f9453424"
      },
      "outputs": [
        {
          "data": {
            "text/plain": [
              "E.ON STROM                         164473\n",
              "E.ON STROM 24                       69363\n",
              "E.ON STROM ÖKO                      55194\n",
              "E.ON STROM ÖKO 24                   25440\n",
              "E.ON STROM PUR                       3650\n",
              "E.ON STROM Ã–KO                       206\n",
              "E.ON STROM 24 24                       14\n",
              "E.ON STROM 24 24 24                     2\n",
              "E.ON STROM 24 24 24 24 24 24 24         2\n",
              "E.ON STROM ÖO                           1\n",
              "Name: original_product_name, dtype: int64"
            ]
          },
          "execution_count": 9,
          "metadata": {},
          "output_type": "execute_result"
        }
      ],
      "source": [
        "df[\"original_product_name\"].value_counts(dropna=False)"
      ]
    },
    {
      "attachments": {},
      "cell_type": "markdown",
      "metadata": {},
      "source": [
        "### Discovered problems\n",
        "\n",
        "*   There seem to be inconsistencies in the naming of the product\n",
        "*   It seems as if there are 5 valid products:\n",
        "\n",
        "    * E.ON STROM\n",
        "    * E.ON STROM 24\n",
        "    * E.ON STROM ÖKO\n",
        "    * E.ON STROM ÖKO 24\n",
        "    * E.ON STROM PUR\n"
      ]
    },
    {
      "attachments": {},
      "cell_type": "markdown",
      "metadata": {},
      "source": [
        "### Solution for original_product_name"
      ]
    },
    {
      "cell_type": "code",
      "execution_count": 10,
      "metadata": {},
      "outputs": [],
      "source": [
        "#Create new column\n",
        "df[\"original_product_name_cleaned\"] = df[\"original_product_name\"]\n",
        "\n",
        "#Replace everything containing (KO and 24) OR (Ö and 24) with E.ON STROM ÖKO 24\n",
        "df.loc[df[\"original_product_name\"].str.contains('Ö*24|KO*24', regex=True) ,\"original_product_name_cleaned\"] = \"E.ON STROM ÖKO 24\"\n",
        "\n",
        "#Replace everything containing (KO or Ö) BUT NOT 24 with E.ON STROM ÖKO\n",
        "df.loc[(df[\"original_product_name\"].str.contains('Ö|KO', regex=True)) & ~(df[\"original_product_name\"].str.contains('24', regex=True)) ,\"original_product_name_cleaned\"] = \"E.ON STROM ÖKO\"\n",
        "\n",
        "#Replace everything containing 24 BUT NOT (Ö or KO) with \"E.ON STROM 24\"\n",
        "df.loc[(df[\"original_product_name\"].str.contains('24', regex=True)) & ~(df[\"original_product_name\"].str.contains('Ö|KO', regex=True)) ,\"original_product_name_cleaned\"] = \"E.ON STROM 24\"\n"
      ]
    },
    {
      "cell_type": "code",
      "execution_count": 11,
      "metadata": {},
      "outputs": [
        {
          "data": {
            "text/plain": [
              "E.ON STROM           164473\n",
              "E.ON STROM 24         69381\n",
              "E.ON STROM ÖKO        55401\n",
              "E.ON STROM ÖKO 24     25440\n",
              "E.ON STROM PUR         3650\n",
              "Name: original_product_name_cleaned, dtype: int64"
            ]
          },
          "execution_count": 11,
          "metadata": {},
          "output_type": "execute_result"
        }
      ],
      "source": [
        "df[\"original_product_name_cleaned\"].value_counts(dropna=False)"
      ]
    },
    {
      "attachments": {},
      "cell_type": "markdown",
      "metadata": {
        "id": "EyRI3PrgQZvz"
      },
      "source": [
        "## 2.2 Post Code"
      ]
    },
    {
      "cell_type": "code",
      "execution_count": 12,
      "metadata": {
        "colab": {
          "base_uri": "https://localhost:8080/"
        },
        "id": "avb1gP3kQeEU",
        "outputId": "d8348f11-7756-470b-8f6e-ec9138d4a615"
      },
      "outputs": [
        {
          "data": {
            "text/plain": [
              "31515.0    0.001043\n",
              "28844.0    0.000964\n",
              "40764.0    0.000876\n",
              "28816.0    0.000870\n",
              "30880.0    0.000854\n",
              "             ...   \n",
              "91583      0.000003\n",
              "67814      0.000003\n",
              "68199.0    0.000003\n",
              "24226.0    0.000003\n",
              "21444      0.000003\n",
              "Name: postcode, Length: 20525, dtype: float64"
            ]
          },
          "execution_count": 12,
          "metadata": {},
          "output_type": "execute_result"
        }
      ],
      "source": [
        "df[\"postcode\"].value_counts(dropna=False, normalize=True)"
      ]
    },
    {
      "cell_type": "code",
      "execution_count": 13,
      "metadata": {},
      "outputs": [
        {
          "data": {
            "text/plain": [
              "31515.0    0.001203\n",
              "28844.0    0.001112\n",
              "40764.0    0.001011\n",
              "28816.0    0.001004\n",
              "30880.0    0.000985\n",
              "             ...   \n",
              "29581.0    0.000004\n",
              "46487.0    0.000004\n",
              "93471.0    0.000004\n",
              "76889.0    0.000004\n",
              "77799.0    0.000004\n",
              "Name: postcode, Length: 13402, dtype: float64"
            ]
          },
          "execution_count": 13,
          "metadata": {},
          "output_type": "execute_result"
        }
      ],
      "source": [
        "#Are special characters are used in postcode?\n",
        "df.loc[df[\"postcode\"].astype(\"str\").str.contains(\"[^A-Za-z0-9]\", regex=True) , \"postcode\"].value_counts(dropna=False, normalize=True)"
      ]
    },
    {
      "cell_type": "code",
      "execution_count": 14,
      "metadata": {},
      "outputs": [
        {
          "data": {
            "text/plain": [
              "92696JAVAS    1.0\n",
              "Name: postcode, dtype: float64"
            ]
          },
          "execution_count": 14,
          "metadata": {},
          "output_type": "execute_result"
        }
      ],
      "source": [
        "#Are other letters used in postcode?\n",
        "df.loc[df[\"postcode\"].astype(\"str\").str.contains(\"[^.0-9]\", regex=True) , \"postcode\"].value_counts(dropna=False, normalize=True)"
      ]
    },
    {
      "attachments": {},
      "cell_type": "markdown",
      "metadata": {},
      "source": [
        "### Discovered problems: \n",
        "\n",
        "* mixed data format for postcode with floats and other characters"
      ]
    },
    {
      "attachments": {},
      "cell_type": "markdown",
      "metadata": {},
      "source": [
        "### Solution for postcode"
      ]
    },
    {
      "cell_type": "code",
      "execution_count": 15,
      "metadata": {},
      "outputs": [],
      "source": [
        "#Convert postcode to Integer\n",
        "df[\"postcode_int\"] = df[\"postcode\"].astype(\"str\").str.replace(\"[a-zA-Z]\",'', regex=True).replace(\"[^.0-9]\",'', regex=True).astype(\"float\").astype(\"int\")"
      ]
    },
    {
      "cell_type": "code",
      "execution_count": 16,
      "metadata": {},
      "outputs": [
        {
          "name": "stdout",
          "output_type": "stream",
          "text": [
            "count    318345.000000\n",
            "mean      52096.039344\n",
            "std       26828.201838\n",
            "min        1067.000000\n",
            "25%       30966.000000\n",
            "50%       50374.000000\n",
            "75%       74366.000000\n",
            "max       99998.000000\n",
            "Name: postcode_int, dtype: float64\n"
          ]
        }
      ],
      "source": [
        "print(df[\"postcode_int\"].describe())"
      ]
    },
    {
      "attachments": {},
      "cell_type": "markdown",
      "metadata": {},
      "source": [
        "### Postcodes now look plausible but for safety let's also check if they are all valid:"
      ]
    },
    {
      "cell_type": "code",
      "execution_count": 17,
      "metadata": {},
      "outputs": [
        {
          "data": {
            "text/html": [
              "<div>\n",
              "<style scoped>\n",
              "    .dataframe tbody tr th:only-of-type {\n",
              "        vertical-align: middle;\n",
              "    }\n",
              "\n",
              "    .dataframe tbody tr th {\n",
              "        vertical-align: top;\n",
              "    }\n",
              "\n",
              "    .dataframe thead th {\n",
              "        text-align: right;\n",
              "    }\n",
              "</style>\n",
              "<table border=\"1\" class=\"dataframe\">\n",
              "  <thead>\n",
              "    <tr style=\"text-align: right;\">\n",
              "      <th></th>\n",
              "      <th>original_product_name</th>\n",
              "      <th>postcode</th>\n",
              "      <th>bundesland</th>\n",
              "      <th>total_bonus</th>\n",
              "      <th>order_date</th>\n",
              "      <th>original_product_name_cleaned</th>\n",
              "      <th>postcode_int</th>\n",
              "      <th>PLZ</th>\n",
              "      <th>Bundesland</th>\n",
              "    </tr>\n",
              "  </thead>\n",
              "  <tbody>\n",
              "    <tr>\n",
              "      <th>7831</th>\n",
              "      <td>E.ON STROM ÖKO</td>\n",
              "      <td>98694.0</td>\n",
              "      <td>Thüringen</td>\n",
              "      <td>130.0</td>\n",
              "      <td>2018-01-09</td>\n",
              "      <td>E.ON STROM ÖKO</td>\n",
              "      <td>98694</td>\n",
              "      <td>NaN</td>\n",
              "      <td>NaN</td>\n",
              "    </tr>\n",
              "    <tr>\n",
              "      <th>25220</th>\n",
              "      <td>E.ON STROM ÖKO</td>\n",
              "      <td>98694.0</td>\n",
              "      <td>Thüringen</td>\n",
              "      <td>189.0</td>\n",
              "      <td>2018-01-29</td>\n",
              "      <td>E.ON STROM ÖKO</td>\n",
              "      <td>98694</td>\n",
              "      <td>NaN</td>\n",
              "      <td>NaN</td>\n",
              "    </tr>\n",
              "    <tr>\n",
              "      <th>29938</th>\n",
              "      <td>E.ON STROM</td>\n",
              "      <td>98694.0</td>\n",
              "      <td>Thüringen</td>\n",
              "      <td>129.0</td>\n",
              "      <td>2018-02-04</td>\n",
              "      <td>E.ON STROM</td>\n",
              "      <td>98694</td>\n",
              "      <td>NaN</td>\n",
              "      <td>NaN</td>\n",
              "    </tr>\n",
              "    <tr>\n",
              "      <th>46823</th>\n",
              "      <td>E.ON STROM ÖKO</td>\n",
              "      <td>64760.0</td>\n",
              "      <td>Hessen</td>\n",
              "      <td>108.0</td>\n",
              "      <td>2018-02-23</td>\n",
              "      <td>E.ON STROM ÖKO</td>\n",
              "      <td>64760</td>\n",
              "      <td>NaN</td>\n",
              "      <td>NaN</td>\n",
              "    </tr>\n",
              "    <tr>\n",
              "      <th>52774</th>\n",
              "      <td>E.ON STROM ÖKO</td>\n",
              "      <td>98694.0</td>\n",
              "      <td>Thüringen</td>\n",
              "      <td>147.0</td>\n",
              "      <td>2018-03-02</td>\n",
              "      <td>E.ON STROM ÖKO</td>\n",
              "      <td>98694</td>\n",
              "      <td>NaN</td>\n",
              "      <td>NaN</td>\n",
              "    </tr>\n",
              "    <tr>\n",
              "      <th>52969</th>\n",
              "      <td>E.ON STROM ÖKO</td>\n",
              "      <td>39628.0</td>\n",
              "      <td>NaN</td>\n",
              "      <td>162.0</td>\n",
              "      <td>2018-03-02</td>\n",
              "      <td>E.ON STROM ÖKO</td>\n",
              "      <td>39628</td>\n",
              "      <td>NaN</td>\n",
              "      <td>NaN</td>\n",
              "    </tr>\n",
              "    <tr>\n",
              "      <th>73615</th>\n",
              "      <td>E.ON STROM ÖKO 24</td>\n",
              "      <td>60312.0</td>\n",
              "      <td>NaN</td>\n",
              "      <td>84.0</td>\n",
              "      <td>2018-03-26</td>\n",
              "      <td>E.ON STROM ÖKO 24</td>\n",
              "      <td>60312</td>\n",
              "      <td>NaN</td>\n",
              "      <td>NaN</td>\n",
              "    </tr>\n",
              "    <tr>\n",
              "      <th>84393</th>\n",
              "      <td>E.ON STROM 24</td>\n",
              "      <td>64760.0</td>\n",
              "      <td>Hessen</td>\n",
              "      <td>171.0</td>\n",
              "      <td>2018-04-08</td>\n",
              "      <td>E.ON STROM 24</td>\n",
              "      <td>64760</td>\n",
              "      <td>NaN</td>\n",
              "      <td>NaN</td>\n",
              "    </tr>\n",
              "    <tr>\n",
              "      <th>87035</th>\n",
              "      <td>E.ON STROM ÖKO</td>\n",
              "      <td>39628.0</td>\n",
              "      <td>NaN</td>\n",
              "      <td>108.0</td>\n",
              "      <td>2018-04-11</td>\n",
              "      <td>E.ON STROM ÖKO</td>\n",
              "      <td>39628</td>\n",
              "      <td>NaN</td>\n",
              "      <td>NaN</td>\n",
              "    </tr>\n",
              "    <tr>\n",
              "      <th>122183</th>\n",
              "      <td>E.ON STROM</td>\n",
              "      <td>98694.0</td>\n",
              "      <td>Thüringen</td>\n",
              "      <td>118.0</td>\n",
              "      <td>2018-05-21</td>\n",
              "      <td>E.ON STROM</td>\n",
              "      <td>98694</td>\n",
              "      <td>NaN</td>\n",
              "      <td>NaN</td>\n",
              "    </tr>\n",
              "    <tr>\n",
              "      <th>123003</th>\n",
              "      <td>E.ON STROM 24</td>\n",
              "      <td>39628.0</td>\n",
              "      <td>NaN</td>\n",
              "      <td>119.0</td>\n",
              "      <td>2018-05-22</td>\n",
              "      <td>E.ON STROM 24</td>\n",
              "      <td>39628</td>\n",
              "      <td>NaN</td>\n",
              "      <td>NaN</td>\n",
              "    </tr>\n",
              "    <tr>\n",
              "      <th>130290</th>\n",
              "      <td>E.ON STROM ÖKO</td>\n",
              "      <td>39628.0</td>\n",
              "      <td>NaN</td>\n",
              "      <td>81.0</td>\n",
              "      <td>2018-05-30</td>\n",
              "      <td>E.ON STROM ÖKO</td>\n",
              "      <td>39628</td>\n",
              "      <td>NaN</td>\n",
              "      <td>NaN</td>\n",
              "    </tr>\n",
              "    <tr>\n",
              "      <th>137428</th>\n",
              "      <td>E.ON STROM ÖKO 24</td>\n",
              "      <td>64760.0</td>\n",
              "      <td>Hessen</td>\n",
              "      <td>184.0</td>\n",
              "      <td>2018-06-07</td>\n",
              "      <td>E.ON STROM ÖKO 24</td>\n",
              "      <td>64760</td>\n",
              "      <td>NaN</td>\n",
              "      <td>NaN</td>\n",
              "    </tr>\n",
              "    <tr>\n",
              "      <th>141867</th>\n",
              "      <td>E.ON STROM 24</td>\n",
              "      <td>39628.0</td>\n",
              "      <td>NaN</td>\n",
              "      <td>159.0</td>\n",
              "      <td>2018-06-12</td>\n",
              "      <td>E.ON STROM 24</td>\n",
              "      <td>39628</td>\n",
              "      <td>NaN</td>\n",
              "      <td>NaN</td>\n",
              "    </tr>\n",
              "    <tr>\n",
              "      <th>144869</th>\n",
              "      <td>E.ON STROM</td>\n",
              "      <td>39628.0</td>\n",
              "      <td>NaN</td>\n",
              "      <td>109.0</td>\n",
              "      <td>2018-06-16</td>\n",
              "      <td>E.ON STROM</td>\n",
              "      <td>39628</td>\n",
              "      <td>NaN</td>\n",
              "      <td>NaN</td>\n",
              "    </tr>\n",
              "    <tr>\n",
              "      <th>153911</th>\n",
              "      <td>E.ON STROM</td>\n",
              "      <td>64760.0</td>\n",
              "      <td>Hessen</td>\n",
              "      <td>273.0</td>\n",
              "      <td>2018-06-26</td>\n",
              "      <td>E.ON STROM</td>\n",
              "      <td>64760</td>\n",
              "      <td>NaN</td>\n",
              "      <td>NaN</td>\n",
              "    </tr>\n",
              "    <tr>\n",
              "      <th>164767</th>\n",
              "      <td>E.ON STROM</td>\n",
              "      <td>39628.0</td>\n",
              "      <td>NaN</td>\n",
              "      <td>84.0</td>\n",
              "      <td>2018-07-09</td>\n",
              "      <td>E.ON STROM</td>\n",
              "      <td>39628</td>\n",
              "      <td>NaN</td>\n",
              "      <td>NaN</td>\n",
              "    </tr>\n",
              "    <tr>\n",
              "      <th>171147</th>\n",
              "      <td>E.ON STROM</td>\n",
              "      <td>99331.0</td>\n",
              "      <td>Thüringen</td>\n",
              "      <td>158.0</td>\n",
              "      <td>2018-07-16</td>\n",
              "      <td>E.ON STROM</td>\n",
              "      <td>99331</td>\n",
              "      <td>NaN</td>\n",
              "      <td>NaN</td>\n",
              "    </tr>\n",
              "    <tr>\n",
              "      <th>180980</th>\n",
              "      <td>E.ON STROM ÖKO</td>\n",
              "      <td>64760.0</td>\n",
              "      <td>Hessen</td>\n",
              "      <td>146.0</td>\n",
              "      <td>2018-07-27</td>\n",
              "      <td>E.ON STROM ÖKO</td>\n",
              "      <td>64760</td>\n",
              "      <td>NaN</td>\n",
              "      <td>NaN</td>\n",
              "    </tr>\n",
              "    <tr>\n",
              "      <th>183270</th>\n",
              "      <td>E.ON STROM ÖKO</td>\n",
              "      <td>64760.0</td>\n",
              "      <td>Hessen</td>\n",
              "      <td>280.0</td>\n",
              "      <td>2018-07-30</td>\n",
              "      <td>E.ON STROM ÖKO</td>\n",
              "      <td>64760</td>\n",
              "      <td>NaN</td>\n",
              "      <td>NaN</td>\n",
              "    </tr>\n",
              "    <tr>\n",
              "      <th>186737</th>\n",
              "      <td>E.ON STROM ÖKO 24</td>\n",
              "      <td>64760.0</td>\n",
              "      <td>Hessen</td>\n",
              "      <td>267.0</td>\n",
              "      <td>2018-08-03</td>\n",
              "      <td>E.ON STROM ÖKO 24</td>\n",
              "      <td>64760</td>\n",
              "      <td>NaN</td>\n",
              "      <td>NaN</td>\n",
              "    </tr>\n",
              "    <tr>\n",
              "      <th>201152</th>\n",
              "      <td>E.ON STROM ÖKO</td>\n",
              "      <td>39628.0</td>\n",
              "      <td>NaN</td>\n",
              "      <td>171.0</td>\n",
              "      <td>2018-08-20</td>\n",
              "      <td>E.ON STROM ÖKO</td>\n",
              "      <td>39628</td>\n",
              "      <td>NaN</td>\n",
              "      <td>NaN</td>\n",
              "    </tr>\n",
              "    <tr>\n",
              "      <th>211682</th>\n",
              "      <td>E.ON STROM 24</td>\n",
              "      <td>99331.0</td>\n",
              "      <td>Thüringen</td>\n",
              "      <td>166.0</td>\n",
              "      <td>2018-09-01</td>\n",
              "      <td>E.ON STROM 24</td>\n",
              "      <td>99331</td>\n",
              "      <td>NaN</td>\n",
              "      <td>NaN</td>\n",
              "    </tr>\n",
              "    <tr>\n",
              "      <th>219719</th>\n",
              "      <td>E.ON STROM</td>\n",
              "      <td>99331.0</td>\n",
              "      <td>Thüringen</td>\n",
              "      <td>146.0</td>\n",
              "      <td>2018-09-10</td>\n",
              "      <td>E.ON STROM</td>\n",
              "      <td>99331</td>\n",
              "      <td>NaN</td>\n",
              "      <td>NaN</td>\n",
              "    </tr>\n",
              "    <tr>\n",
              "      <th>245952</th>\n",
              "      <td>E.ON STROM 24</td>\n",
              "      <td>39628.0</td>\n",
              "      <td>NaN</td>\n",
              "      <td>97.0</td>\n",
              "      <td>2018-10-10</td>\n",
              "      <td>E.ON STROM 24</td>\n",
              "      <td>39628</td>\n",
              "      <td>NaN</td>\n",
              "      <td>NaN</td>\n",
              "    </tr>\n",
              "    <tr>\n",
              "      <th>246303</th>\n",
              "      <td>E.ON STROM 24</td>\n",
              "      <td>64760.0</td>\n",
              "      <td>Hessen</td>\n",
              "      <td>238.0</td>\n",
              "      <td>2018-10-11</td>\n",
              "      <td>E.ON STROM 24</td>\n",
              "      <td>64760</td>\n",
              "      <td>NaN</td>\n",
              "      <td>NaN</td>\n",
              "    </tr>\n",
              "    <tr>\n",
              "      <th>249222</th>\n",
              "      <td>E.ON STROM</td>\n",
              "      <td>39628.0</td>\n",
              "      <td>NaN</td>\n",
              "      <td>94.0</td>\n",
              "      <td>2018-10-14</td>\n",
              "      <td>E.ON STROM</td>\n",
              "      <td>39628</td>\n",
              "      <td>NaN</td>\n",
              "      <td>NaN</td>\n",
              "    </tr>\n",
              "    <tr>\n",
              "      <th>262366</th>\n",
              "      <td>E.ON STROM ÖKO</td>\n",
              "      <td>64760.0</td>\n",
              "      <td>Hessen</td>\n",
              "      <td>199.0</td>\n",
              "      <td>2018-10-29</td>\n",
              "      <td>E.ON STROM ÖKO</td>\n",
              "      <td>64760</td>\n",
              "      <td>NaN</td>\n",
              "      <td>NaN</td>\n",
              "    </tr>\n",
              "    <tr>\n",
              "      <th>279077</th>\n",
              "      <td>E.ON STROM ÖKO 24</td>\n",
              "      <td>64760</td>\n",
              "      <td>Hessen</td>\n",
              "      <td>145.0</td>\n",
              "      <td>2018-11-17</td>\n",
              "      <td>E.ON STROM ÖKO 24</td>\n",
              "      <td>64760</td>\n",
              "      <td>NaN</td>\n",
              "      <td>NaN</td>\n",
              "    </tr>\n",
              "    <tr>\n",
              "      <th>288357</th>\n",
              "      <td>E.ON STROM 24</td>\n",
              "      <td>64760</td>\n",
              "      <td>Hessen</td>\n",
              "      <td>125.0</td>\n",
              "      <td>2018-11-27</td>\n",
              "      <td>E.ON STROM 24</td>\n",
              "      <td>64760</td>\n",
              "      <td>NaN</td>\n",
              "      <td>NaN</td>\n",
              "    </tr>\n",
              "    <tr>\n",
              "      <th>288598</th>\n",
              "      <td>E.ON STROM ÖKO</td>\n",
              "      <td>98694</td>\n",
              "      <td>Thüringen</td>\n",
              "      <td>74.0</td>\n",
              "      <td>2018-11-28</td>\n",
              "      <td>E.ON STROM ÖKO</td>\n",
              "      <td>98694</td>\n",
              "      <td>NaN</td>\n",
              "      <td>NaN</td>\n",
              "    </tr>\n",
              "    <tr>\n",
              "      <th>296997</th>\n",
              "      <td>E.ON STROM ÖKO</td>\n",
              "      <td>39628.0</td>\n",
              "      <td>NaN</td>\n",
              "      <td>136.0</td>\n",
              "      <td>2018-12-07</td>\n",
              "      <td>E.ON STROM ÖKO</td>\n",
              "      <td>39628</td>\n",
              "      <td>NaN</td>\n",
              "      <td>NaN</td>\n",
              "    </tr>\n",
              "  </tbody>\n",
              "</table>\n",
              "</div>"
            ],
            "text/plain": [
              "       original_product_name postcode bundesland  total_bonus  order_date  \\\n",
              "7831          E.ON STROM ÖKO  98694.0  Thüringen        130.0  2018-01-09   \n",
              "25220         E.ON STROM ÖKO  98694.0  Thüringen        189.0  2018-01-29   \n",
              "29938             E.ON STROM  98694.0  Thüringen        129.0  2018-02-04   \n",
              "46823         E.ON STROM ÖKO  64760.0     Hessen        108.0  2018-02-23   \n",
              "52774         E.ON STROM ÖKO  98694.0  Thüringen        147.0  2018-03-02   \n",
              "52969         E.ON STROM ÖKO  39628.0        NaN        162.0  2018-03-02   \n",
              "73615      E.ON STROM ÖKO 24  60312.0        NaN         84.0  2018-03-26   \n",
              "84393          E.ON STROM 24  64760.0     Hessen        171.0  2018-04-08   \n",
              "87035         E.ON STROM ÖKO  39628.0        NaN        108.0  2018-04-11   \n",
              "122183            E.ON STROM  98694.0  Thüringen        118.0  2018-05-21   \n",
              "123003         E.ON STROM 24  39628.0        NaN        119.0  2018-05-22   \n",
              "130290        E.ON STROM ÖKO  39628.0        NaN         81.0  2018-05-30   \n",
              "137428     E.ON STROM ÖKO 24  64760.0     Hessen        184.0  2018-06-07   \n",
              "141867         E.ON STROM 24  39628.0        NaN        159.0  2018-06-12   \n",
              "144869            E.ON STROM  39628.0        NaN        109.0  2018-06-16   \n",
              "153911            E.ON STROM  64760.0     Hessen        273.0  2018-06-26   \n",
              "164767            E.ON STROM  39628.0        NaN         84.0  2018-07-09   \n",
              "171147            E.ON STROM  99331.0  Thüringen        158.0  2018-07-16   \n",
              "180980        E.ON STROM ÖKO  64760.0     Hessen        146.0  2018-07-27   \n",
              "183270        E.ON STROM ÖKO  64760.0     Hessen        280.0  2018-07-30   \n",
              "186737     E.ON STROM ÖKO 24  64760.0     Hessen        267.0  2018-08-03   \n",
              "201152        E.ON STROM ÖKO  39628.0        NaN        171.0  2018-08-20   \n",
              "211682         E.ON STROM 24  99331.0  Thüringen        166.0  2018-09-01   \n",
              "219719            E.ON STROM  99331.0  Thüringen        146.0  2018-09-10   \n",
              "245952         E.ON STROM 24  39628.0        NaN         97.0  2018-10-10   \n",
              "246303         E.ON STROM 24  64760.0     Hessen        238.0  2018-10-11   \n",
              "249222            E.ON STROM  39628.0        NaN         94.0  2018-10-14   \n",
              "262366        E.ON STROM ÖKO  64760.0     Hessen        199.0  2018-10-29   \n",
              "279077     E.ON STROM ÖKO 24    64760     Hessen        145.0  2018-11-17   \n",
              "288357         E.ON STROM 24    64760     Hessen        125.0  2018-11-27   \n",
              "288598        E.ON STROM ÖKO    98694  Thüringen         74.0  2018-11-28   \n",
              "296997        E.ON STROM ÖKO  39628.0        NaN        136.0  2018-12-07   \n",
              "\n",
              "       original_product_name_cleaned  postcode_int  PLZ Bundesland  \n",
              "7831                  E.ON STROM ÖKO         98694  NaN        NaN  \n",
              "25220                 E.ON STROM ÖKO         98694  NaN        NaN  \n",
              "29938                     E.ON STROM         98694  NaN        NaN  \n",
              "46823                 E.ON STROM ÖKO         64760  NaN        NaN  \n",
              "52774                 E.ON STROM ÖKO         98694  NaN        NaN  \n",
              "52969                 E.ON STROM ÖKO         39628  NaN        NaN  \n",
              "73615              E.ON STROM ÖKO 24         60312  NaN        NaN  \n",
              "84393                  E.ON STROM 24         64760  NaN        NaN  \n",
              "87035                 E.ON STROM ÖKO         39628  NaN        NaN  \n",
              "122183                    E.ON STROM         98694  NaN        NaN  \n",
              "123003                 E.ON STROM 24         39628  NaN        NaN  \n",
              "130290                E.ON STROM ÖKO         39628  NaN        NaN  \n",
              "137428             E.ON STROM ÖKO 24         64760  NaN        NaN  \n",
              "141867                 E.ON STROM 24         39628  NaN        NaN  \n",
              "144869                    E.ON STROM         39628  NaN        NaN  \n",
              "153911                    E.ON STROM         64760  NaN        NaN  \n",
              "164767                    E.ON STROM         39628  NaN        NaN  \n",
              "171147                    E.ON STROM         99331  NaN        NaN  \n",
              "180980                E.ON STROM ÖKO         64760  NaN        NaN  \n",
              "183270                E.ON STROM ÖKO         64760  NaN        NaN  \n",
              "186737             E.ON STROM ÖKO 24         64760  NaN        NaN  \n",
              "201152                E.ON STROM ÖKO         39628  NaN        NaN  \n",
              "211682                 E.ON STROM 24         99331  NaN        NaN  \n",
              "219719                    E.ON STROM         99331  NaN        NaN  \n",
              "245952                 E.ON STROM 24         39628  NaN        NaN  \n",
              "246303                 E.ON STROM 24         64760  NaN        NaN  \n",
              "249222                    E.ON STROM         39628  NaN        NaN  \n",
              "262366                E.ON STROM ÖKO         64760  NaN        NaN  \n",
              "279077             E.ON STROM ÖKO 24         64760  NaN        NaN  \n",
              "288357                 E.ON STROM 24         64760  NaN        NaN  \n",
              "288598                E.ON STROM ÖKO         98694  NaN        NaN  \n",
              "296997                E.ON STROM ÖKO         39628  NaN        NaN  "
            ]
          },
          "execution_count": 17,
          "metadata": {},
          "output_type": "execute_result"
        }
      ],
      "source": [
        "df.merge(plz, how=\"left\", left_on=\"postcode_int\", right_on=\"PLZ\").query(\"PLZ.isnull()\")"
      ]
    },
    {
      "attachments": {},
      "cell_type": "markdown",
      "metadata": {},
      "source": [
        "--> Seems like only a small fraction of PLZs were not in the database, the large majority of the PLZs seem to be in the database"
      ]
    },
    {
      "attachments": {},
      "cell_type": "markdown",
      "metadata": {
        "id": "nHJnYSU9QtDQ"
      },
      "source": [
        "## 2.3 bundesland"
      ]
    },
    {
      "cell_type": "code",
      "execution_count": 18,
      "metadata": {
        "colab": {
          "base_uri": "https://localhost:8080/"
        },
        "id": "3ByT0Kb8QxBF",
        "outputId": "f822b077-e5c1-4ca4-878d-c49921b92ce5"
      },
      "outputs": [
        {
          "data": {
            "text/plain": [
              "Nordrhein-Westfalen       0.215304\n",
              "Bayern                    0.159390\n",
              "Baden-Württemberg         0.111348\n",
              "Niedersachsen             0.109582\n",
              "NaN                       0.092767\n",
              "Hessen                    0.062505\n",
              "Rheinland-Pfalz           0.051353\n",
              "Schleswig-Holstein        0.040714\n",
              "Brandenburg               0.027640\n",
              "Sachsen                   0.027147\n",
              "Berlin                    0.025953\n",
              "Thüringen                 0.018760\n",
              "Mecklenburg-Vorpommern    0.017214\n",
              "Sachsen-Anhalt            0.013994\n",
              "Hamburg                   0.012417\n",
              "Saarland                  0.009389\n",
              "Bremen                    0.004523\n",
              "Name: bundesland, dtype: float64"
            ]
          },
          "execution_count": 18,
          "metadata": {},
          "output_type": "execute_result"
        }
      ],
      "source": [
        "#df.groupby(\"bundesland\", dropna=False).size().sort_values(ascending=False)\n",
        "df[\"bundesland\"].value_counts(dropna=False, normalize=True).sort_values(ascending=False)"
      ]
    },
    {
      "attachments": {},
      "cell_type": "markdown",
      "metadata": {},
      "source": [
        "### Discovered problems\n",
        "\n",
        "*   9.3% of the records have missing data for bundesland"
      ]
    },
    {
      "attachments": {},
      "cell_type": "markdown",
      "metadata": {},
      "source": [
        "### Solution for bundesland:\n",
        "\n",
        "infer Bundesland from other postcodes or infer Bundesland from external database"
      ]
    },
    {
      "attachments": {},
      "cell_type": "markdown",
      "metadata": {
        "id": "9_1vriVRRFvj"
      },
      "source": [
        "## 2.4 total bonus\n"
      ]
    },
    {
      "cell_type": "code",
      "execution_count": 19,
      "metadata": {
        "colab": {
          "base_uri": "https://localhost:8080/"
        },
        "id": "z5TGrVT0RJrC",
        "outputId": "9c81c2cf-0fa4-4319-a043-564fcf658451"
      },
      "outputs": [
        {
          "data": {
            "text/plain": [
              "count    318345.000000\n",
              "mean        150.590275\n",
              "std          53.692176\n",
              "min           0.000000\n",
              "25%         112.000000\n",
              "50%         149.000000\n",
              "75%         182.000000\n",
              "max         570.000000\n",
              "Name: total_bonus, dtype: float64"
            ]
          },
          "execution_count": 19,
          "metadata": {},
          "output_type": "execute_result"
        }
      ],
      "source": [
        "df[\"total_bonus\"].describe()"
      ]
    },
    {
      "attachments": {},
      "cell_type": "markdown",
      "metadata": {},
      "source": [
        "### There seem to be no problems with the total_bonus field"
      ]
    },
    {
      "attachments": {},
      "cell_type": "markdown",
      "metadata": {
        "id": "qKwscCIPRUdm"
      },
      "source": [
        "## 2.4 order_date"
      ]
    },
    {
      "cell_type": "code",
      "execution_count": 20,
      "metadata": {
        "colab": {
          "base_uri": "https://localhost:8080/"
        },
        "id": "XTAf00__RYbJ",
        "outputId": "3a9a7fb5-df39-487b-d08a-b0be0bd568fe"
      },
      "outputs": [
        {
          "data": {
            "text/plain": [
              "2018-09-05    0.003016\n",
              "2018-10-13    0.003006\n",
              "2018-10-21    0.003006\n",
              "2018-08-26    0.002962\n",
              "2018-12-19    0.002953\n",
              "                ...   \n",
              "2018-08-28    0.002544\n",
              "2018-03-18    0.002544\n",
              "2018-04-25    0.002519\n",
              "2018-03-10    0.002519\n",
              "2018-05-23    0.002504\n",
              "Name: order_date, Length: 365, dtype: float64"
            ]
          },
          "execution_count": 20,
          "metadata": {},
          "output_type": "execute_result"
        }
      ],
      "source": [
        "df[\"order_date\"].value_counts(dropna=False, normalize=True).sort_values(ascending=False)"
      ]
    },
    {
      "attachments": {},
      "cell_type": "markdown",
      "metadata": {},
      "source": [
        "### There seem to be no problems with the contents of the date field, but it could be parsed to a pandas datetime format"
      ]
    },
    {
      "cell_type": "code",
      "execution_count": 21,
      "metadata": {},
      "outputs": [],
      "source": [
        "df[\"order_date\"] = pd.to_datetime(df[\"order_date\"], errors=\"raise\")"
      ]
    },
    {
      "attachments": {},
      "cell_type": "markdown",
      "metadata": {},
      "source": [
        "# 3 Summary"
      ]
    },
    {
      "attachments": {},
      "cell_type": "markdown",
      "metadata": {},
      "source": [
        "### The following problems have been discovered"
      ]
    },
    {
      "attachments": {},
      "cell_type": "markdown",
      "metadata": {},
      "source": [
        "* **original product name**\n",
        "    * Wrong product names --> Solution: use regex to replace wrong product names\n",
        "\n",
        "* **postcode**\n",
        "    * Mixed data format and additional strings found in PLZ --> Solution: remove strings and then convert to Integer format. Then convert to String to avoid numeric interpretation of column\n",
        "\n",
        "* **bundesland**\n",
        "    * 9.3% of the records have missing data --> Solution: infer Bundesland from other postcodes or infer Bundesland from external database\n",
        "\n",
        "* **total_bonus**\n",
        "    * No problems visible\n",
        "\n",
        "* **order_date**\n",
        "    * No problems visible, but it could be parsed to a pandas datetime format"
      ]
    },
    {
      "attachments": {},
      "cell_type": "markdown",
      "metadata": {},
      "source": [
        "# Go to 02_Using_DataCleaner_Module.ipynb for solution in production"
      ]
    }
  ],
  "metadata": {
    "colab": {
      "provenance": []
    },
    "kernelspec": {
      "display_name": "TF_Flask",
      "language": "python",
      "name": "python3"
    },
    "language_info": {
      "codemirror_mode": {
        "name": "ipython",
        "version": 3
      },
      "file_extension": ".py",
      "mimetype": "text/x-python",
      "name": "python",
      "nbconvert_exporter": "python",
      "pygments_lexer": "ipython3",
      "version": "3.9.13"
    },
    "vscode": {
      "interpreter": {
        "hash": "0c73a11011fe91efc47c217486cb779a8d068a350f2c50b84f1d33f28b793dce"
      }
    }
  },
  "nbformat": 4,
  "nbformat_minor": 0
}
