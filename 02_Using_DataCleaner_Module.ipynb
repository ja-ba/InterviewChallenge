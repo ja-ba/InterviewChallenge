{
 "cells": [
  {
   "attachments": {},
   "cell_type": "markdown",
   "metadata": {},
   "source": [
    "# Load the package"
   ]
  },
  {
   "cell_type": "code",
   "execution_count": 1,
   "metadata": {},
   "outputs": [],
   "source": [
    "from DataCleaner import DataCleaner"
   ]
  },
  {
   "attachments": {},
   "cell_type": "markdown",
   "metadata": {},
   "source": [
    "# Use Package"
   ]
  },
  {
   "cell_type": "code",
   "execution_count": 2,
   "metadata": {},
   "outputs": [],
   "source": [
    "#Instantiate object\n",
    "DataCleanerObject = DataCleaner()"
   ]
  },
  {
   "cell_type": "code",
   "execution_count": 3,
   "metadata": {},
   "outputs": [
    {
     "name": "stdout",
     "output_type": "stream",
     "text": [
      "Dataset loaded successfully!\n"
     ]
    }
   ],
   "source": [
    "#Load df\n",
    "DataCleanerObject.load_DF(\"interview_signup.csv\")"
   ]
  },
  {
   "cell_type": "code",
   "execution_count": 4,
   "metadata": {},
   "outputs": [
    {
     "name": "stdout",
     "output_type": "stream",
     "text": [
      "Postcode cleaning successfull\n"
     ]
    }
   ],
   "source": [
    "# Clean Postcode:\n",
    "DataCleanerObject.cleanPostcode()"
   ]
  },
  {
   "cell_type": "code",
   "execution_count": 5,
   "metadata": {},
   "outputs": [
    {
     "name": "stderr",
     "output_type": "stream",
     "text": [
      "c:\\Users\\Jakob\\Documents\\Datensaetze\\Interview_Cases\\EON\\DataCleaner.py:64: UserWarning: WARNING: Returning the cleaned DF, but you haven't cleaned Bundesland yet!\n",
      "  warnings.warn(\"WARNING: Returning the cleaned DF, but you haven't cleaned Bundesland yet!\")\n"
     ]
    }
   ],
   "source": [
    "#Returning DF without having used the cleanProductName() method\n",
    "df_final = DataCleanerObject.returnClean()"
   ]
  },
  {
   "cell_type": "code",
   "execution_count": 6,
   "metadata": {},
   "outputs": [
    {
     "name": "stdout",
     "output_type": "stream",
     "text": [
      "Product Name cleaning successfull\n"
     ]
    }
   ],
   "source": [
    "#Clean ProductName\n",
    "DataCleanerObject.cleanProductName()"
   ]
  },
  {
   "cell_type": "code",
   "execution_count": 7,
   "metadata": {},
   "outputs": [],
   "source": [
    "#Returning DF \n",
    "df_final = DataCleanerObject.returnClean()"
   ]
  },
  {
   "attachments": {},
   "cell_type": "markdown",
   "metadata": {},
   "source": [
    "# Check result"
   ]
  },
  {
   "cell_type": "code",
   "execution_count": 8,
   "metadata": {},
   "outputs": [
    {
     "name": "stdout",
     "output_type": "stream",
     "text": [
      "<class 'pandas.core.frame.DataFrame'>\n",
      "RangeIndex: 318345 entries, 0 to 318344\n",
      "Data columns (total 5 columns):\n",
      " #   Column                 Non-Null Count   Dtype  \n",
      "---  ------                 --------------   -----  \n",
      " 0   original_product_name  318345 non-null  object \n",
      " 1   postcode               318345 non-null  object \n",
      " 2   bundesland             288813 non-null  object \n",
      " 3   total_bonus            318345 non-null  float64\n",
      " 4   order_date             318345 non-null  object \n",
      "dtypes: float64(1), object(4)\n",
      "memory usage: 12.1+ MB\n"
     ]
    }
   ],
   "source": [
    "df_final.info()"
   ]
  },
  {
   "cell_type": "code",
   "execution_count": 9,
   "metadata": {},
   "outputs": [
    {
     "data": {
      "text/plain": [
       "31515    0.001225\n",
       "28844    0.001169\n",
       "40764    0.001037\n",
       "28816    0.001030\n",
       "30880    0.001015\n",
       "           ...   \n",
       "87642    0.000003\n",
       "73349    0.000003\n",
       "86868    0.000003\n",
       "79677    0.000003\n",
       "89183    0.000003\n",
       "Name: postcode, Length: 8119, dtype: float64"
      ]
     },
     "execution_count": 9,
     "metadata": {},
     "output_type": "execute_result"
    }
   ],
   "source": [
    "df_final[\"postcode\"].value_counts(dropna=False, normalize=True)"
   ]
  },
  {
   "cell_type": "code",
   "execution_count": 11,
   "metadata": {},
   "outputs": [
    {
     "data": {
      "text/plain": [
       "E.ON STROM           164473\n",
       "E.ON STROM ÖKO 24     94821\n",
       "E.ON STROM ÖKO        55401\n",
       "E.ON STROM PUR         3650\n",
       "Name: original_product_name, dtype: int64"
      ]
     },
     "execution_count": 11,
     "metadata": {},
     "output_type": "execute_result"
    }
   ],
   "source": [
    "df_final[\"original_product_name\"].value_counts(dropna=False)"
   ]
  }
 ],
 "metadata": {
  "kernelspec": {
   "display_name": "TF_Flask",
   "language": "python",
   "name": "python3"
  },
  "language_info": {
   "codemirror_mode": {
    "name": "ipython",
    "version": 3
   },
   "file_extension": ".py",
   "mimetype": "text/x-python",
   "name": "python",
   "nbconvert_exporter": "python",
   "pygments_lexer": "ipython3",
   "version": "3.9.13"
  },
  "orig_nbformat": 4,
  "vscode": {
   "interpreter": {
    "hash": "0c73a11011fe91efc47c217486cb779a8d068a350f2c50b84f1d33f28b793dce"
   }
  }
 },
 "nbformat": 4,
 "nbformat_minor": 2
}
